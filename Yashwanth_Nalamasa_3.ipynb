{
  "nbformat": 4,
  "nbformat_minor": 0,
  "metadata": {
    "colab": {
      "provenance": []
    },
    "kernelspec": {
      "name": "python3",
      "display_name": "Python 3"
    },
    "language_info": {
      "name": "python"
    }
  },
  "cells": [
    {
      "cell_type": "code",
      "execution_count": 5,
      "metadata": {
        "colab": {
          "base_uri": "https://localhost:8080/"
        },
        "id": "PC53k_Tngdmd",
        "outputId": "766ac4a9-70f1-41ac-adc0-60b2da57732d"
      },
      "outputs": [
        {
          "output_type": "stream",
          "name": "stdout",
          "text": [
            "Calling FulltimeEmployee member function.\n",
            "Average salary: 163000.0\n"
          ]
        }
      ],
      "source": [
        "# Created Employee class with name, family, salary and department\n",
        "class Employee:\n",
        "\n",
        "    # declared a data member to count the number of Employees\n",
        "    no_of_employees = 0\n",
        "\n",
        "    # constructor to initialize the object's attributes\n",
        "    def __init__(self, name, family_name, salary, department):\n",
        "        self.__name = name\n",
        "        self.__family_name = family_name\n",
        "        self.salary = salary\n",
        "        self.__department = department\n",
        "        Employee.no_of_employees += 1\n",
        "\n",
        "    # declared average_salary function to return average salary\n",
        "    def average_salary(employees):\n",
        "        \"\"\"\n",
        "        function to average salary\n",
        "        \"\"\"\n",
        "        sum = 0\n",
        "        for employee in employees:\n",
        "            sum += employee.salary\n",
        "        return sum / Employee.no_of_employees\n",
        "\n",
        "# Created a Fulltime Employee class and inherited the properties of Employee class\n",
        "class FulltimeEmployee(Employee):\n",
        "    \"\"\"\n",
        "    Full Time Employee is a sub class of Employee\n",
        "    \"\"\"\n",
        "\n",
        "    def __init__(self, name, family_name, salary, department):\n",
        "        super().__init__(name, family_name, salary, department)\n",
        "\n",
        "    def full_time_member(self):\n",
        "        print(\"Calling FulltimeEmployee member function.\")\n",
        "\n",
        "# Created the instances of Fulltime Employee class and Employee class and calling their member functions.\n",
        "def main():\n",
        "    employees = []\n",
        "    ftEmployee1 = FulltimeEmployee(\"Vamshi\", \"Ponugoti\", 140000, \"Software Engineering\")\n",
        "    ftEmployee1.full_time_member()\n",
        "    employees.append(ftEmployee1)\n",
        "    ftEmployee2 = FulltimeEmployee(\"Micheal\", \"Velayudham\", 170000, \"Cyber Security\")\n",
        "    employees.append(ftEmployee2)\n",
        "    employee1 = Employee(\"CoseC\", \"Pacchipulsula\", 150000, \"Testing\")\n",
        "    employees.append(employee1)\n",
        "    employee2 = Employee(\"VeeraSimhaReddy\", \"Nandamuri\", 192000, \"Product Manager\")\n",
        "    employees.append(employee2)\n",
        "    print(\"Average salary:\", FulltimeEmployee.average_salary(employees))\n",
        "\n",
        "# declared this method to execute code When the file runs as a script.\n",
        "if __name__ == \"__main__\":\n",
        "    main()"
      ]
    },
    {
      "cell_type": "code",
      "source": [
        "import numpy as np\n",
        "# created a random vector of size 20 with float values between 1 and 20\n",
        "ranvec = np.random.uniform(low=1, high=20, size=20)\n",
        "print(ranvec)\n",
        "# reshape the array to 4 by 5 using reshape method\n",
        "mat45 = ranvec.reshape(4, 5)\n",
        "print(mat45)\n",
        "# replace the max in each row by 0 using where method\n",
        "mat45 = np.where(mat45 == np.amax(mat45, axis=1, keepdims=True), 0, mat45)\n",
        "print(mat45)\n"
      ],
      "metadata": {
        "colab": {
          "base_uri": "https://localhost:8080/"
        },
        "id": "mXB5TLmWgsgF",
        "outputId": "b4be3349-fa6d-44e4-8e7e-d65f98005186"
      },
      "execution_count": 7,
      "outputs": [
        {
          "output_type": "stream",
          "name": "stdout",
          "text": [
            "[11.52893107 15.55864345 15.34299709 19.01923719  4.03866576  7.24033005\n",
            "  6.88551941 11.52420218 16.05710437 19.23360177  1.857521    8.60712665\n",
            "  4.04348398 12.17366495 12.01280991  8.48274022 14.58174168  5.24870941\n",
            " 19.5857353   9.90350164]\n",
            "[[11.52893107 15.55864345 15.34299709 19.01923719  4.03866576]\n",
            " [ 7.24033005  6.88551941 11.52420218 16.05710437 19.23360177]\n",
            " [ 1.857521    8.60712665  4.04348398 12.17366495 12.01280991]\n",
            " [ 8.48274022 14.58174168  5.24870941 19.5857353   9.90350164]]\n",
            "[[11.52893107 15.55864345 15.34299709  0.          4.03866576]\n",
            " [ 7.24033005  6.88551941 11.52420218 16.05710437  0.        ]\n",
            " [ 1.857521    8.60712665  4.04348398  0.         12.01280991]\n",
            " [ 8.48274022 14.58174168  5.24870941  0.          9.90350164]]\n"
          ]
        }
      ]
    }
  ]
}